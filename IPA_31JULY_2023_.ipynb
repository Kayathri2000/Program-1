{
  "nbformat": 4,
  "nbformat_minor": 0,
  "metadata": {
    "colab": {
      "provenance": [],
      "authorship_tag": "ABX9TyOhr3JZ7rSLg/dWSIIjF0rj",
      "include_colab_link": true
    },
    "kernelspec": {
      "name": "python3",
      "display_name": "Python 3"
    },
    "language_info": {
      "name": "python"
    }
  },
  "cells": [
    {
      "cell_type": "markdown",
      "metadata": {
        "id": "view-in-github",
        "colab_type": "text"
      },
      "source": [
        "<a href=\"https://colab.research.google.com/github/Kayathri2000/Program-1/blob/master/IPA_31JULY_2023_.ipynb\" target=\"_parent\"><img src=\"https://colab.research.google.com/assets/colab-badge.svg\" alt=\"Open In Colab\"/></a>"
      ]
    },
    {
      "cell_type": "code",
      "execution_count": 5,
      "metadata": {
        "colab": {
          "base_uri": "https://localhost:8080/"
        },
        "id": "jVehwf_a9kBs",
        "outputId": "1229663b-7a9f-42f2-f588-3b6334dcb852"
      },
      "outputs": [
        {
          "output_type": "stream",
          "name": "stdout",
          "text": [
            "GOOD MORNING\n",
            "No number found \n"
          ]
        }
      ],
      "source": [
        "a=input()\n",
        "b=\"\"\n",
        "c=[]\n",
        "for i in a:\n",
        "  if i.isdigit()==True:\n",
        "    c.append(i)\n",
        "    b+=str(i)\n",
        "if len(c)==0:\n",
        "  print(\"No number found \")\n",
        "else:\n",
        "  print(b)\n",
        "\n",
        "\n",
        "\n"
      ]
    },
    {
      "cell_type": "markdown",
      "source": [
        "# * **case 1**\n",
        "there are 2 apples and 5 pears\n",
        "\n",
        "OUTPUT\n",
        "\n",
        " 25\n",
        "# * **case 2**\n",
        " hi how are you ?\n",
        "\n",
        " OUTPUT\n",
        "\n",
        " No number found\n",
        "\n",
        "# * **case 3**\n",
        "345+789\n",
        "\n",
        "OUTPUT\n",
        "\n",
        "345789\n",
        "# * **case 4**\n",
        "\n",
        "GOOD MORNING\n",
        "\n",
        " OUTPUT\n",
        "\n",
        " No number found\n"
      ],
      "metadata": {
        "id": "YMOy21FpL9z7"
      }
    },
    {
      "cell_type": "code",
      "source": [
        "class customer:\n",
        "  def __init__(self,name,num):\n",
        "    self.name=name\n",
        "    self.num=num\n",
        "class state:\n",
        "  def __init__(self,stname,stnum):\n",
        "    self.stname=stname\n",
        "    self.stnum=stnum\n",
        "class store:\n",
        "  def __init__(self,cuslst,stlst):\n",
        "    self.cuslst=cuslst\n",
        "    self.stlst=stlst\n",
        "  def check(gn):\n",
        "    for i in stlst:\n",
        "      if i.stname.lower()==gn.lower():\n",
        "        return i.stnum\n",
        "if __name__==\"__main__\":\n",
        "  n=int(input())\n",
        "  cuslst=[]\n",
        "  stlst=[]\n",
        "  for i in range(n):\n",
        "    name=input()\n",
        "    num=input()\n",
        "    cuslst.append(customer(name,num))\n",
        "  for i in range(2):  # in question they said to create the dictionary with 3 items\n",
        "    stname=input()\n",
        "    stnum=input()\n",
        "    stlst.append(state(stname,stnum))\n",
        "  gn=input()\n",
        "  m=[]\n",
        "  b=store.check(gn)\n",
        "  for i in cuslst:\n",
        "    if i.num[0:3]==b:\n",
        "      m.append(i.name)\n",
        "  if len(m)==0:\n",
        "    print(\"No enteries found \")\n",
        "  else:\n",
        "    for i in cuslst:\n",
        "      if i.num[0:3]==b:\n",
        "         print(i.name)\n",
        "\n",
        "\n"
      ],
      "metadata": {
        "colab": {
          "base_uri": "https://localhost:8080/"
        },
        "id": "Z9BhtNmGLskj",
        "outputId": "f2feec2c-a091-4490-879b-3b5caba0d03e"
      },
      "execution_count": 13,
      "outputs": [
        {
          "output_type": "stream",
          "name": "stdout",
          "text": [
            "2\n",
            "MNHJVGH\n",
            "151564\n",
            "NJNKJB\n",
            "156456J\n",
            "KNHBG\n",
            "15465K\n",
            "KHIUH\n",
            "5646\n",
            "MKJO\n",
            "No enteries found \n"
          ]
        }
      ]
    },
    {
      "cell_type": "markdown",
      "source": [
        "\n",
        "\n",
        "*   # **case 1**\n",
        "* 4\n",
        "* kaya\n",
        "*202-1545615664\n",
        "*lalitha\n",
        "*120-215456564\n",
        "*kayan\n",
        "*202-1564654654\n",
        "*sri\n",
        "*125-1584564564\n",
        "*pune\n",
        "*202\n",
        "*delhi\n",
        "*125\n",
        "*chennai\n",
        "*120\n",
        "*PUNE\n",
        "*\n",
        "*OUTPUT\n",
        "*kaya\n",
        "*kayan\n",
        "*\n",
        "*\n",
        "*\n",
        "*   # **case 2**\n",
        "* 4\n",
        "* kaya\n",
        "*202-1545615664\n",
        "*lalitha\n",
        "*120-215456564\n",
        "*kayan\n",
        "*202-1564654654\n",
        "*sri\n",
        "*125-1584564564\n",
        "*pune\n",
        "*202\n",
        "*delhi\n",
        "*125\n",
        "*chennai\n",
        "*120\n",
        "*KERALA\n",
        "*\n",
        "*OUTPUT\n",
        "*No enteries found\n",
        "\n",
        "\n",
        "\n"
      ],
      "metadata": {
        "id": "UOoI3dMEVgZ0"
      }
    },
    {
      "cell_type": "code",
      "source": [
        "#                                                   ---------------- END-----------------"
      ],
      "metadata": {
        "id": "J_8I5MuzZz_2"
      },
      "execution_count": null,
      "outputs": []
    }
  ]
}